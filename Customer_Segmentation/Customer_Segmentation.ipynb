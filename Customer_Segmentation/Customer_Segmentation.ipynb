{
 "cells": [
  {
   "cell_type": "markdown",
   "metadata": {
    "id": "_PdUOZ8OkN2N"
   },
   "source": [
    "# # In this project we will compare between  all unsupervised machine learning algorithms for model classification.\n",
    "\n",
    "We will go through 6 tasks to implement our project:\n",
    "\n",
    "Task 1: Import the important library and exploring the dataset.\n",
    "\n",
    "Task 2: Identifying Missing Data and dealing with them.\n",
    "\n",
    "Task 3: Creating visual methods to analyze the data.\n",
    "\n",
    "Task 4: Kmeans cluster model.\n",
    "\n",
    "Task 5: hierarichal cluster model.\n",
    "\n",
    "Task 6: DB scan cluster model"
   ]
  },
  {
   "cell_type": "markdown",
   "metadata": {
    "id": "lstxuJUHkN2Q"
   },
   "source": [
    "## Task 1: Import the important library and exploring the dataset.\n"
   ]
  },
  {
   "cell_type": "code",
   "execution_count": null,
   "metadata": {
    "id": "sIwLEZuokN2Q"
   },
   "outputs": [],
   "source": [
    "import numpy as np # linear algebra\n",
    "import pandas as pd # data processing, CSV file I/O (e.g. pd.read_csv)\n",
    "from matplotlib import pyplot as plt\n",
    "from sklearn.cluster import KMeans\n",
    "from sklearn.cluster import AgglomerativeClustering\n",
    "from sklearn.cluster import DBSCAN\n",
    "sns.set() #setting the default seaborn style for our plots"
   ]
  },
  {
   "cell_type": "code",
   "execution_count": null,
   "metadata": {
    "id": "rvjgX-B_kN2R",
    "outputId": "d764e46c-512d-4e39-ccdb-16f3a77803cd"
   },
   "outputs": [
    {
     "data": {
      "text/html": [
       "<div>\n",
       "<style scoped>\n",
       "    .dataframe tbody tr th:only-of-type {\n",
       "        vertical-align: middle;\n",
       "    }\n",
       "\n",
       "    .dataframe tbody tr th {\n",
       "        vertical-align: top;\n",
       "    }\n",
       "\n",
       "    .dataframe thead th {\n",
       "        text-align: right;\n",
       "    }\n",
       "</style>\n",
       "<table border=\"1\" class=\"dataframe\">\n",
       "  <thead>\n",
       "    <tr style=\"text-align: right;\">\n",
       "      <th></th>\n",
       "      <th>activity_period</th>\n",
       "      <th>operating_airline</th>\n",
       "      <th>operating_airline_iata_code</th>\n",
       "      <th>published_airline</th>\n",
       "      <th>published_airline_iata_code</th>\n",
       "      <th>geo_summary</th>\n",
       "      <th>geo_region</th>\n",
       "      <th>activity_type_code</th>\n",
       "      <th>price_category_code</th>\n",
       "      <th>terminal</th>\n",
       "      <th>boarding_area</th>\n",
       "      <th>passenger_count</th>\n",
       "      <th>adjusted_activity_type_code</th>\n",
       "      <th>adjusted_passenger_count</th>\n",
       "      <th>year</th>\n",
       "      <th>month</th>\n",
       "    </tr>\n",
       "  </thead>\n",
       "  <tbody>\n",
       "    <tr>\n",
       "      <th>0</th>\n",
       "      <td>200507</td>\n",
       "      <td>ATA Airlines</td>\n",
       "      <td>TZ</td>\n",
       "      <td>ATA Airlines</td>\n",
       "      <td>TZ</td>\n",
       "      <td>Domestic</td>\n",
       "      <td>US</td>\n",
       "      <td>Deplaned</td>\n",
       "      <td>Low Fare</td>\n",
       "      <td>Terminal 1</td>\n",
       "      <td>B</td>\n",
       "      <td>27271</td>\n",
       "      <td>Deplaned</td>\n",
       "      <td>27271</td>\n",
       "      <td>2005</td>\n",
       "      <td>July</td>\n",
       "    </tr>\n",
       "    <tr>\n",
       "      <th>1</th>\n",
       "      <td>200507</td>\n",
       "      <td>ATA Airlines</td>\n",
       "      <td>TZ</td>\n",
       "      <td>ATA Airlines</td>\n",
       "      <td>TZ</td>\n",
       "      <td>Domestic</td>\n",
       "      <td>US</td>\n",
       "      <td>Enplaned</td>\n",
       "      <td>Low Fare</td>\n",
       "      <td>Terminal 1</td>\n",
       "      <td>B</td>\n",
       "      <td>29131</td>\n",
       "      <td>Enplaned</td>\n",
       "      <td>29131</td>\n",
       "      <td>2005</td>\n",
       "      <td>July</td>\n",
       "    </tr>\n",
       "    <tr>\n",
       "      <th>2</th>\n",
       "      <td>200507</td>\n",
       "      <td>ATA Airlines</td>\n",
       "      <td>TZ</td>\n",
       "      <td>ATA Airlines</td>\n",
       "      <td>TZ</td>\n",
       "      <td>Domestic</td>\n",
       "      <td>US</td>\n",
       "      <td>Thru / Transit</td>\n",
       "      <td>Low Fare</td>\n",
       "      <td>Terminal 1</td>\n",
       "      <td>B</td>\n",
       "      <td>5415</td>\n",
       "      <td>Thru / Transit * 2</td>\n",
       "      <td>10830</td>\n",
       "      <td>2005</td>\n",
       "      <td>July</td>\n",
       "    </tr>\n",
       "    <tr>\n",
       "      <th>3</th>\n",
       "      <td>200507</td>\n",
       "      <td>Air Canada</td>\n",
       "      <td>AC</td>\n",
       "      <td>Air Canada</td>\n",
       "      <td>AC</td>\n",
       "      <td>International</td>\n",
       "      <td>Canada</td>\n",
       "      <td>Deplaned</td>\n",
       "      <td>Other</td>\n",
       "      <td>Terminal 1</td>\n",
       "      <td>B</td>\n",
       "      <td>35156</td>\n",
       "      <td>Deplaned</td>\n",
       "      <td>35156</td>\n",
       "      <td>2005</td>\n",
       "      <td>July</td>\n",
       "    </tr>\n",
       "    <tr>\n",
       "      <th>4</th>\n",
       "      <td>200507</td>\n",
       "      <td>Air Canada</td>\n",
       "      <td>AC</td>\n",
       "      <td>Air Canada</td>\n",
       "      <td>AC</td>\n",
       "      <td>International</td>\n",
       "      <td>Canada</td>\n",
       "      <td>Enplaned</td>\n",
       "      <td>Other</td>\n",
       "      <td>Terminal 1</td>\n",
       "      <td>B</td>\n",
       "      <td>34090</td>\n",
       "      <td>Enplaned</td>\n",
       "      <td>34090</td>\n",
       "      <td>2005</td>\n",
       "      <td>July</td>\n",
       "    </tr>\n",
       "  </tbody>\n",
       "</table>\n",
       "</div>"
      ],
      "text/plain": [
       "   activity_period operating_airline operating_airline_iata_code  \\\n",
       "0           200507      ATA Airlines                          TZ   \n",
       "1           200507      ATA Airlines                          TZ   \n",
       "2           200507      ATA Airlines                          TZ   \n",
       "3           200507        Air Canada                          AC   \n",
       "4           200507        Air Canada                          AC   \n",
       "\n",
       "  published_airline published_airline_iata_code    geo_summary geo_region  \\\n",
       "0      ATA Airlines                          TZ       Domestic         US   \n",
       "1      ATA Airlines                          TZ       Domestic         US   \n",
       "2      ATA Airlines                          TZ       Domestic         US   \n",
       "3        Air Canada                          AC  International     Canada   \n",
       "4        Air Canada                          AC  International     Canada   \n",
       "\n",
       "  activity_type_code price_category_code    terminal boarding_area  \\\n",
       "0           Deplaned            Low Fare  Terminal 1             B   \n",
       "1           Enplaned            Low Fare  Terminal 1             B   \n",
       "2     Thru / Transit            Low Fare  Terminal 1             B   \n",
       "3           Deplaned               Other  Terminal 1             B   \n",
       "4           Enplaned               Other  Terminal 1             B   \n",
       "\n",
       "   passenger_count adjusted_activity_type_code  adjusted_passenger_count  \\\n",
       "0            27271                    Deplaned                     27271   \n",
       "1            29131                    Enplaned                     29131   \n",
       "2             5415          Thru / Transit * 2                     10830   \n",
       "3            35156                    Deplaned                     35156   \n",
       "4            34090                    Enplaned                     34090   \n",
       "\n",
       "   year month  \n",
       "0  2005  July  \n",
       "1  2005  July  \n",
       "2  2005  July  \n",
       "3  2005  July  \n",
       "4  2005  July  "
      ]
     },
     "execution_count": 2,
     "metadata": {},
     "output_type": "execute_result"
    }
   ],
   "source": [
    "traffic_df=pd.read_csv('air_traffic_passenger_statistics.csv')\n",
    "traffic_df.head()"
   ]
  },
  {
   "cell_type": "code",
   "execution_count": null,
   "metadata": {
    "id": "6-kcg25ikN2R",
    "outputId": "4a830eab-33d1-4e9b-c1fe-77f45803bc5c"
   },
   "outputs": [
    {
     "name": "stdout",
     "output_type": "stream",
     "text": [
      "<class 'pandas.core.frame.DataFrame'>\n",
      "RangeIndex: 15007 entries, 0 to 15006\n",
      "Data columns (total 16 columns):\n",
      " #   Column                       Non-Null Count  Dtype \n",
      "---  ------                       --------------  ----- \n",
      " 0   activity_period              15007 non-null  int64 \n",
      " 1   operating_airline            15007 non-null  object\n",
      " 2   operating_airline_iata_code  14953 non-null  object\n",
      " 3   published_airline            15007 non-null  object\n",
      " 4   published_airline_iata_code  14953 non-null  object\n",
      " 5   geo_summary                  15007 non-null  object\n",
      " 6   geo_region                   15007 non-null  object\n",
      " 7   activity_type_code           15007 non-null  object\n",
      " 8   price_category_code          15007 non-null  object\n",
      " 9   terminal                     15007 non-null  object\n",
      " 10  boarding_area                15007 non-null  object\n",
      " 11  passenger_count              15007 non-null  int64 \n",
      " 12  adjusted_activity_type_code  15007 non-null  object\n",
      " 13  adjusted_passenger_count     15007 non-null  int64 \n",
      " 14  year                         15007 non-null  int64 \n",
      " 15  month                        15007 non-null  object\n",
      "dtypes: int64(4), object(12)\n",
      "memory usage: 1.8+ MB\n"
     ]
    }
   ],
   "source": [
    "traffic_df.info()"
   ]
  },
  {
   "cell_type": "markdown",
   "metadata": {
    "id": "c5yS03WUkN2S"
   },
   "source": [
    "Expected output:\n",
    "\n",
    "     1-The data should consist of 15007 data record with 16 attributes. 4 integer type & 12 string (object).\n",
    "     2-there are missing data"
   ]
  },
  {
   "cell_type": "markdown",
   "metadata": {
    "id": "kRMShc0okN2S"
   },
   "source": [
    "## Task 2: Identifying Missing Data and dealing with them.\n"
   ]
  },
  {
   "cell_type": "code",
   "execution_count": null,
   "metadata": {
    "id": "r49m7VhVkN2S",
    "outputId": "288f98f2-617d-42ac-e7f7-ca170a6413ac"
   },
   "outputs": [
    {
     "data": {
      "text/html": [
       "<div>\n",
       "<style scoped>\n",
       "    .dataframe tbody tr th:only-of-type {\n",
       "        vertical-align: middle;\n",
       "    }\n",
       "\n",
       "    .dataframe tbody tr th {\n",
       "        vertical-align: top;\n",
       "    }\n",
       "\n",
       "    .dataframe thead th {\n",
       "        text-align: right;\n",
       "    }\n",
       "</style>\n",
       "<table border=\"1\" class=\"dataframe\">\n",
       "  <thead>\n",
       "    <tr style=\"text-align: right;\">\n",
       "      <th></th>\n",
       "      <th>activity_period</th>\n",
       "      <th>operating_airline</th>\n",
       "      <th>operating_airline_iata_code</th>\n",
       "      <th>published_airline</th>\n",
       "      <th>published_airline_iata_code</th>\n",
       "      <th>geo_summary</th>\n",
       "      <th>geo_region</th>\n",
       "      <th>activity_type_code</th>\n",
       "      <th>price_category_code</th>\n",
       "      <th>terminal</th>\n",
       "      <th>boarding_area</th>\n",
       "      <th>passenger_count</th>\n",
       "      <th>adjusted_activity_type_code</th>\n",
       "      <th>adjusted_passenger_count</th>\n",
       "      <th>year</th>\n",
       "      <th>month</th>\n",
       "    </tr>\n",
       "  </thead>\n",
       "  <tbody>\n",
       "    <tr>\n",
       "      <th>False</th>\n",
       "      <td>15007.0</td>\n",
       "      <td>15007.0</td>\n",
       "      <td>14953</td>\n",
       "      <td>15007.0</td>\n",
       "      <td>14953</td>\n",
       "      <td>15007.0</td>\n",
       "      <td>15007.0</td>\n",
       "      <td>15007.0</td>\n",
       "      <td>15007.0</td>\n",
       "      <td>15007.0</td>\n",
       "      <td>15007.0</td>\n",
       "      <td>15007.0</td>\n",
       "      <td>15007.0</td>\n",
       "      <td>15007.0</td>\n",
       "      <td>15007.0</td>\n",
       "      <td>15007.0</td>\n",
       "    </tr>\n",
       "    <tr>\n",
       "      <th>True</th>\n",
       "      <td>NaN</td>\n",
       "      <td>NaN</td>\n",
       "      <td>54</td>\n",
       "      <td>NaN</td>\n",
       "      <td>54</td>\n",
       "      <td>NaN</td>\n",
       "      <td>NaN</td>\n",
       "      <td>NaN</td>\n",
       "      <td>NaN</td>\n",
       "      <td>NaN</td>\n",
       "      <td>NaN</td>\n",
       "      <td>NaN</td>\n",
       "      <td>NaN</td>\n",
       "      <td>NaN</td>\n",
       "      <td>NaN</td>\n",
       "      <td>NaN</td>\n",
       "    </tr>\n",
       "  </tbody>\n",
       "</table>\n",
       "</div>"
      ],
      "text/plain": [
       "       activity_period  operating_airline  operating_airline_iata_code  \\\n",
       "False          15007.0            15007.0                        14953   \n",
       "True               NaN                NaN                           54   \n",
       "\n",
       "       published_airline  published_airline_iata_code  geo_summary  \\\n",
       "False            15007.0                        14953      15007.0   \n",
       "True                 NaN                           54          NaN   \n",
       "\n",
       "       geo_region  activity_type_code  price_category_code  terminal  \\\n",
       "False     15007.0             15007.0              15007.0   15007.0   \n",
       "True          NaN                 NaN                  NaN       NaN   \n",
       "\n",
       "       boarding_area  passenger_count  adjusted_activity_type_code  \\\n",
       "False        15007.0          15007.0                      15007.0   \n",
       "True             NaN              NaN                          NaN   \n",
       "\n",
       "       adjusted_passenger_count     year    month  \n",
       "False                   15007.0  15007.0  15007.0  \n",
       "True                        NaN      NaN      NaN  "
      ]
     },
     "execution_count": 4,
     "metadata": {},
     "output_type": "execute_result"
    }
   ],
   "source": [
    "# Check for the null values\n",
    "\n",
    "traffic_df.isna().apply(pd.value_counts)"
   ]
  },
  {
   "cell_type": "markdown",
   "metadata": {
    "id": "LmwTpFLGkN2T"
   },
   "source": [
    "Expected output:\n",
    "      \n",
    "                there are 54 missing data"
   ]
  },
  {
   "cell_type": "code",
   "execution_count": null,
   "metadata": {
    "id": "9l_FHBa4kN2T",
    "outputId": "aa6e8c9a-7241-4680-c9f0-bb8ec9f6ec70"
   },
   "outputs": [
    {
     "data": {
      "text/plain": [
       "(14953, 16)"
      ]
     },
     "execution_count": 5,
     "metadata": {},
     "output_type": "execute_result"
    }
   ],
   "source": [
    "traffic_df.dropna(axis=0,inplace=True) #remove the missing data\n",
    "traffic_df.shape"
   ]
  },
  {
   "cell_type": "code",
   "execution_count": null,
   "metadata": {
    "id": "uXwGHhzwkN2T",
    "outputId": "70c6d513-b4ad-40f2-da4b-f978ad807e87"
   },
   "outputs": [
    {
     "data": {
      "text/html": [
       "<div>\n",
       "<style scoped>\n",
       "    .dataframe tbody tr th:only-of-type {\n",
       "        vertical-align: middle;\n",
       "    }\n",
       "\n",
       "    .dataframe tbody tr th {\n",
       "        vertical-align: top;\n",
       "    }\n",
       "\n",
       "    .dataframe thead th {\n",
       "        text-align: right;\n",
       "    }\n",
       "</style>\n",
       "<table border=\"1\" class=\"dataframe\">\n",
       "  <thead>\n",
       "    <tr style=\"text-align: right;\">\n",
       "      <th></th>\n",
       "      <th>activity_period</th>\n",
       "      <th>operating_airline</th>\n",
       "      <th>operating_airline_iata_code</th>\n",
       "      <th>published_airline</th>\n",
       "      <th>published_airline_iata_code</th>\n",
       "      <th>geo_summary</th>\n",
       "      <th>geo_region</th>\n",
       "      <th>activity_type_code</th>\n",
       "      <th>price_category_code</th>\n",
       "      <th>terminal</th>\n",
       "      <th>boarding_area</th>\n",
       "      <th>passenger_count</th>\n",
       "      <th>adjusted_activity_type_code</th>\n",
       "      <th>adjusted_passenger_count</th>\n",
       "      <th>year</th>\n",
       "      <th>month</th>\n",
       "    </tr>\n",
       "  </thead>\n",
       "  <tbody>\n",
       "    <tr>\n",
       "      <th>False</th>\n",
       "      <td>14953</td>\n",
       "      <td>14953</td>\n",
       "      <td>14953</td>\n",
       "      <td>14953</td>\n",
       "      <td>14953</td>\n",
       "      <td>14953</td>\n",
       "      <td>14953</td>\n",
       "      <td>14953</td>\n",
       "      <td>14953</td>\n",
       "      <td>14953</td>\n",
       "      <td>14953</td>\n",
       "      <td>14953</td>\n",
       "      <td>14953</td>\n",
       "      <td>14953</td>\n",
       "      <td>14953</td>\n",
       "      <td>14953</td>\n",
       "    </tr>\n",
       "  </tbody>\n",
       "</table>\n",
       "</div>"
      ],
      "text/plain": [
       "       activity_period  operating_airline  operating_airline_iata_code  \\\n",
       "False            14953              14953                        14953   \n",
       "\n",
       "       published_airline  published_airline_iata_code  geo_summary  \\\n",
       "False              14953                        14953        14953   \n",
       "\n",
       "       geo_region  activity_type_code  price_category_code  terminal  \\\n",
       "False       14953               14953                14953     14953   \n",
       "\n",
       "       boarding_area  passenger_count  adjusted_activity_type_code  \\\n",
       "False          14953            14953                        14953   \n",
       "\n",
       "       adjusted_passenger_count   year  month  \n",
       "False                     14953  14953  14953  "
      ]
     },
     "execution_count": 6,
     "metadata": {},
     "output_type": "execute_result"
    }
   ],
   "source": [
    "traffic_df.isna().apply(pd.value_counts)"
   ]
  },
  {
   "cell_type": "markdown",
   "metadata": {
    "id": "jipPobJNkN2U"
   },
   "source": [
    "## Task 3: Creating visual methods to analyze the data.\n"
   ]
  },
  {
   "cell_type": "code",
   "execution_count": null,
   "metadata": {
    "id": "wlukv-LTkN2U",
    "outputId": "c880bcd9-22fc-42e8-fb51-bbb0f6c8dde3"
   },
   "outputs": [
    {
     "data": {
      "text/html": [
       "<div>\n",
       "<style scoped>\n",
       "    .dataframe tbody tr th:only-of-type {\n",
       "        vertical-align: middle;\n",
       "    }\n",
       "\n",
       "    .dataframe tbody tr th {\n",
       "        vertical-align: top;\n",
       "    }\n",
       "\n",
       "    .dataframe thead th {\n",
       "        text-align: right;\n",
       "    }\n",
       "</style>\n",
       "<table border=\"1\" class=\"dataframe\">\n",
       "  <thead>\n",
       "    <tr style=\"text-align: right;\">\n",
       "      <th></th>\n",
       "      <th>count</th>\n",
       "      <th>mean</th>\n",
       "      <th>std</th>\n",
       "      <th>min</th>\n",
       "      <th>25%</th>\n",
       "      <th>50%</th>\n",
       "      <th>75%</th>\n",
       "      <th>max</th>\n",
       "    </tr>\n",
       "  </thead>\n",
       "  <tbody>\n",
       "    <tr>\n",
       "      <th>activity_period</th>\n",
       "      <td>14953.0</td>\n",
       "      <td>201044.583963</td>\n",
       "      <td>313.675658</td>\n",
       "      <td>200507.0</td>\n",
       "      <td>200803.0</td>\n",
       "      <td>201011.0</td>\n",
       "      <td>201308.0</td>\n",
       "      <td>201603.0</td>\n",
       "    </tr>\n",
       "    <tr>\n",
       "      <th>passenger_count</th>\n",
       "      <td>14953.0</td>\n",
       "      <td>29345.619006</td>\n",
       "      <td>58398.448380</td>\n",
       "      <td>1.0</td>\n",
       "      <td>5409.0</td>\n",
       "      <td>9260.0</td>\n",
       "      <td>21222.0</td>\n",
       "      <td>659837.0</td>\n",
       "    </tr>\n",
       "    <tr>\n",
       "      <th>adjusted_passenger_count</th>\n",
       "      <td>14953.0</td>\n",
       "      <td>29437.338862</td>\n",
       "      <td>58362.879319</td>\n",
       "      <td>1.0</td>\n",
       "      <td>5523.0</td>\n",
       "      <td>9418.0</td>\n",
       "      <td>21267.0</td>\n",
       "      <td>659837.0</td>\n",
       "    </tr>\n",
       "    <tr>\n",
       "      <th>year</th>\n",
       "      <td>14953.0</td>\n",
       "      <td>2010.380325</td>\n",
       "      <td>3.140994</td>\n",
       "      <td>2005.0</td>\n",
       "      <td>2008.0</td>\n",
       "      <td>2010.0</td>\n",
       "      <td>2013.0</td>\n",
       "      <td>2016.0</td>\n",
       "    </tr>\n",
       "  </tbody>\n",
       "</table>\n",
       "</div>"
      ],
      "text/plain": [
       "                            count           mean           std       min  \\\n",
       "activity_period           14953.0  201044.583963    313.675658  200507.0   \n",
       "passenger_count           14953.0   29345.619006  58398.448380       1.0   \n",
       "adjusted_passenger_count  14953.0   29437.338862  58362.879319       1.0   \n",
       "year                      14953.0    2010.380325      3.140994    2005.0   \n",
       "\n",
       "                               25%       50%       75%       max  \n",
       "activity_period           200803.0  201011.0  201308.0  201603.0  \n",
       "passenger_count             5409.0    9260.0   21222.0  659837.0  \n",
       "adjusted_passenger_count    5523.0    9418.0   21267.0  659837.0  \n",
       "year                        2008.0    2010.0    2013.0    2016.0  "
      ]
     },
     "execution_count": 7,
     "metadata": {},
     "output_type": "execute_result"
    }
   ],
   "source": [
    "# a brief summary for the dataset\n",
    "\n",
    "traffic_df.describe().T"
   ]
  },
  {
   "cell_type": "markdown",
   "metadata": {
    "id": "5LEFXdugkN2V"
   },
   "source": [
    "## Task 4: Kmeans cluster model"
   ]
  },
  {
   "cell_type": "code",
   "execution_count": null,
   "metadata": {
    "id": "Ia6ghY4kkN2V"
   },
   "outputs": [],
   "source": [
    "X = traffic_df.iloc[:, [13, 14]].values"
   ]
  },
  {
   "cell_type": "code",
   "execution_count": null,
   "metadata": {
    "id": "iHx1GxOwkN2V",
    "outputId": "a5ad18ab-025e-44e1-d5c3-1440f13272de"
   },
   "outputs": [
    {
     "data": {
      "image/png": "[encoded data removed]",
      "text/plain": [
       "<Figure size 432x288 with 1 Axes>"
      ]
     },
     "metadata": {},
     "output_type": "display_data"
    }
   ],
   "source": [
    "# Draw the elpow graph\n",
    "from sklearn.cluster import KMeans\n",
    "wcss = []\n",
    "for i in range(1, 11):\n",
    "    kmeans = KMeans(n_clusters = i, init = 'k-means++', random_state = 42)\n",
    "    kmeans.fit(X)\n",
    "    wcss.append(kmeans.inertia_)\n",
    "plt.plot(range(1, 11), wcss)\n",
    "plt.title('The Elbow Method')\n",
    "plt.xlabel('Number of clusters')\n",
    "plt.ylabel('WCSS')\n",
    "plt.show()\n"
   ]
  },
  {
   "cell_type": "code",
   "execution_count": null,
   "metadata": {
    "id": "cbjiEdO3kN2V"
   },
   "outputs": [],
   "source": [
    "kmeans = KMeans(n_clusters = 3, init = 'k-means++', random_state = 42)\n",
    "y_kmeans = kmeans.fit_predict(X)"
   ]
  },
  {
   "cell_type": "code",
   "execution_count": null,
   "metadata": {
    "id": "_SRk7vY-kN2V",
    "outputId": "68011d3b-f352-43b8-cc12-65c55be7f130"
   },
   "outputs": [
    {
     "data": {
      "image/png": "[encoded data removed]",
      "text/plain": [
       "<Figure size 432x288 with 1 Axes>"
      ]
     },
     "metadata": {},
     "output_type": "display_data"
    }
   ],
   "source": [
    "# Visualising the clusters\n",
    "plt.scatter(X[y_kmeans == 0, 0], X[y_kmeans == 0, 1], s = 100, c = 'red', label = 'Cluster 1')\n",
    "plt.scatter(X[y_kmeans == 1, 0], X[y_kmeans == 1, 1], s = 100, c = 'blue', label = 'Cluster 2')\n",
    "plt.scatter(X[y_kmeans == 2, 0], X[y_kmeans == 2, 1], s = 100, c = 'green', label = 'Cluster 3')\n",
    "plt.scatter(kmeans.cluster_centers_[:, 0], kmeans.cluster_centers_[:, 1], s = 300, c = 'yellow'\n",
    "            , label = 'Centroids')\n",
    "plt.title('geo_summary')\n",
    "plt.xlabel('adjusted passenger count')\n",
    "plt.ylabel('year')\n",
    "plt.legend()\n",
    "plt.show()"
   ]
  },
  {
   "cell_type": "markdown",
   "metadata": {
    "id": "XBqu_C4FkN2V"
   },
   "source": [
    "# Task 5:  hierarichal  cluster model"
   ]
  },
  {
   "cell_type": "code",
   "execution_count": null,
   "metadata": {
    "id": "k6s1G7IkkN2W",
    "outputId": "927ad23c-a908-4586-9f21-a533fa4744c4"
   },
   "outputs": [
    {
     "data": {
      "text/plain": [
       "<matplotlib.lines.Line2D at 0x1f5f096b760>"
      ]
     },
     "execution_count": 19,
     "metadata": {},
     "output_type": "execute_result"
    },
    {
     "data": {
      "image/png": "[encoded data removed]",
      "text/plain": [
       "<Figure size 720x504 with 1 Axes>"
      ]
     },
     "metadata": {},
     "output_type": "display_data"
    }
   ],
   "source": [
    "plt.figure(figsize=(10, 7))\n",
    "plt.title(\"Dendrograms\")\n",
    "dend = shc.dendrogram(shc.linkage(X, method='ward'))\n",
    "plt.axhline(y=6, color='r', linestyle='--')\n"
   ]
  },
  {
   "cell_type": "code",
   "execution_count": null,
   "metadata": {
    "id": "ttjQJuNNkN2W",
    "outputId": "a711381b-e58c-4970-c7c7-ae62bba98881"
   },
   "outputs": [
    {
     "data": {
      "text/plain": [
       "Text(0.5, 1.0, 'Hierarchical')"
      ]
     },
     "execution_count": 21,
     "metadata": {},
     "output_type": "execute_result"
    },
    {
     "data": {
      "image/png": "[encoded data removed]",
      "text/plain": [
       "<Figure size 432x288 with 1 Axes>"
      ]
     },
     "metadata": {},
     "output_type": "display_data"
    }
   ],
   "source": [
    "hier = AgglomerativeClustering(n_clusters=2)\n",
    "y_pred2 = hier.fit_predict(X)\n",
    "plt.scatter(X[:,0], X[:,1],c=y_pred2, cmap='Paired')\n",
    "plt.title(\"Hierarchical\")"
   ]
  },
  {
   "cell_type": "markdown",
   "metadata": {
    "id": "ktFOp7pMkN2W"
   },
   "source": [
    "## Task 6:  DB scan  cluster model"
   ]
  },
  {
   "cell_type": "code",
   "execution_count": null,
   "metadata": {
    "id": "oBu3Jwi3kN2W",
    "outputId": "181ba5a5-177c-43b2-a464-e0806bf846ef"
   },
   "outputs": [
    {
     "data": {
      "text/plain": [
       "Text(0.5, 1.0, 'DBSCAN')"
      ]
     },
     "execution_count": 46,
     "metadata": {},
     "output_type": "execute_result"
    },
    {
     "data": {
      "image/png": "[encoded data removed]",
      "text/plain": [
       "<Figure size 432x288 with 1 Axes>"
      ]
     },
     "metadata": {},
     "output_type": "display_data"
    }
   ],
   "source": [
    "db = DBSCAN(eps=1000, min_samples=50)\n",
    "db.fit(X)\n",
    "y_pred3 = db.fit_predict(X)\n",
    "plt.scatter(X[:,0], X[:,1],c=y_pred3, cmap='Paired')\n",
    "plt.title(\"DBSCAN\")"
   ]
  }
 ],
 "metadata": {
  "colab": {
   "provenance": []
  },
  "kernelspec": {
   "display_name": "Python 3 (ipykernel)",
   "language": "python",
   "name": "python3"
  },
  "language_info": {
   "codemirror_mode": {
    "name": "ipython",
    "version": 3
   },
   "file_extension": ".py",
   "mimetype": "text/x-python",
   "name": "python",
   "nbconvert_exporter": "python",
   "pygments_lexer": "ipython3",
   "version": "3.8.15"
  }
 },
 "nbformat": 4,
 "nbformat_minor": 1
}
